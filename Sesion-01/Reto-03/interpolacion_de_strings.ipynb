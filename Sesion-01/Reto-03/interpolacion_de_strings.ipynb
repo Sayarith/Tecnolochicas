{
  "cells": [
    {
      "cell_type": "markdown",
      "metadata": {
        "id": "1bRHo6fBptrc"
      },
      "source": [
        "## Reto 3: Interpolación de strings\n",
        "\n",
        "### 1. Objetivos:\n",
        "    - Practicar interpolación de strings\n",
        "\n",
        "---\n",
        "    \n",
        "### 2. Desarrollo:"
      ]
    },
    {
      "cell_type": "markdown",
      "metadata": {
        "id": "ff_pVrdWptr9"
      },
      "source": [
        "A continuación tienes algunas variables asignadas:"
      ]
    },
    {
      "cell_type": "code",
      "execution_count": 1,
      "metadata": {
        "id": "ECNE3R3GptsB"
      },
      "outputs": [],
      "source": [
        "nombre_1 = \"Jenny\"\n",
        "nombre_2 = \"Marco P.\"\n",
        "\n",
        "edad_1 = 110\n",
        "edad_2 = 42\n",
        "\n",
        "estrella_1 = \"Woopsie Doopsies\"\n",
        "estrella_2 = \"Omega-3\"\n",
        "estrella_3 = \"Justin Bieber\"\n",
        "estrella_4 = \"La Twinkle\"\n",
        "estrella_5 = \"Rosaberta\"\n",
        "\n",
        "total_de_nombres_de_estrellas_mencionados = 5\n",
        "numero_de_estrellas_deseadas = 325"
      ]
    },
    {
      "cell_type": "markdown",
      "metadata": {
        "id": "_N6nwx0JptsM"
      },
      "source": [
        "Usando **TODAS** las variables de arriba, crea una (o más) string que, al correr la celda, imprima la siguiente historia:\n",
        "\n",
        "> \"Marco P. y Jenny son grandes amigues. Les mejores. Van y vienen juntes desde hace décadas. Sí, décadas. Marco P. tiene 110 años y Jenny 42. Si sumas sus edades, obtienes 152, que curiosamente es el número de estrellas que Marco P. y Jenny han nombrado juntes. Sus estrellas son su mayor fascinación. Las compraron en Best Buy en una ganga de objetos celestes. Están 'Woopsie Doopsies', 'Omega-3', 'Justin Bieber', 'La Twinkle', 'Rosaberta' y otras 147 estrellas más. Marco P. y Jenny tienen planeado sobrevivir hasta el siglo XXII. ¡Cuántas estrellas más habrán de comprar y nombrar juntes! Su meta es 325. Sólo faltan 173. ¡Vamos Marco P. y Jenny! Marco P. y Jenny son les mejores amigues. No hay duda alguna.\"\n",
        "\n",
        "Recuerda utilizar **TODAS** las variables que hemos asignado. También, todos los números que aparezcan en el texto deben de ser variables interpoladas u operaciones aritméticas. Ningún número puede ser una string simple.\n",
        "\n",
        "¡Mucha suerte!"
      ]
    },
    {
      "cell_type": "markdown",
      "metadata": {
        "id": "r8qYsf7aptsO"
      },
      "source": [
        "<details><summary>Solución</summary>\n",
        "\n",
        "```python\n",
        "print(f\"{nombre_1} y {nombre_2} son grandes amigues. Les mejores. Van y vienen juntos desde hace décadas. Sí, décadas. {nombre_1} tiene {edad_1} años y {nombre_2} {edad_2}. Si sumas sus edades, obtienes {edad_1 + edad_2}, que curiosamente es el número de estrellas que {nombre_1} y {nombre_2} han nombrado juntos. Sus estrellas son su mayor fascinación. Las compraron en Best Buy en una ganga de objetos celestes. Están {estrella_1}, {estrella_2}, {estrella_3}, {estrella_4}, {estrella_5} y otras {edad_1 + edad_2 - total_de_nombres_de_estrellas_mencionados} estrellas más. {nombre_1} y {nombre_2} tienen planeado sobrevivir hasta el siglo XXII. ¡Cuántas estrellas más habrán de comprar y nombrar juntos! Su meta es {numero_de_estrellas_deseadas}. Sólo faltan {numero_de_estrellas_deseadas - edad_1 + edad_2}. ¡Vamos {nombre_1} y {nombre_2}! {nombre_1} y {nombre_2} son les mejores amigues. No hay duda alguna.\"\n",
        "```\n",
        "    \n",
        "</details>"
      ]
    },
    {
      "cell_type": "code",
      "execution_count": 6,
      "metadata": {
        "id": "pWkSF_H3ptsS",
        "outputId": "d6a331c7-bb8f-4fa3-dbf0-c1265cadae18",
        "colab": {
          "base_uri": "https://localhost:8080/"
        }
      },
      "outputs": [
        {
          "output_type": "stream",
          "name": "stdout",
          "text": [
            "Jenny y Marco P. son grandes amigues. Les mejores. \n",
            "Van y vienen juntos desde hace décadas. Sí, décadas.\n",
            "\n",
            "Jenny tiene 110 años y Marco P. 42. \n",
            "Si sumas sus edades, obtienes 152, que curiosamente es el número de estrellas que Jenny y Marco P. han nombrado juntos.\n",
            "\n",
            "Sus estrellas son su mayor fascinación. Las compraron en Best Buy en una ganga de objetos celestes. \n",
            "Están Woopsie Doopsies, Omega-3, Justin Bieber, La Twinkle, Rosaberta y otras 147 estrellas más.\n",
            "\n",
            "Jenny y Marco P. tienen planeado sobrevivir hasta el siglo XXII. \n",
            "¡Cuántas estrellas más habrán de comprar y nombrar juntos!\n",
            "\n",
            "Su meta es 325. \n",
            "Sólo faltan 173. \n",
            "¡Vamos Jenny y Marco P.! Jenny y Marco P. son les mejores amigues. No hay duda alguna.\n"
          ]
        }
      ],
      "source": [
        "print(f\"\"\"{nombre_1} y {nombre_2} son grandes amigues. Les mejores.\n",
        "Van y vienen juntos desde hace décadas. Sí, décadas.\n",
        "\n",
        "{nombre_1} tiene {edad_1} años y {nombre_2} {edad_2}.\n",
        "Si sumas sus edades, obtienes {edad_1 + edad_2}, que curiosamente es el número de estrellas que {nombre_1} y {nombre_2} han nombrado juntos.\n",
        "\n",
        "Sus estrellas son su mayor fascinación. Las compraron en Best Buy en una ganga de objetos celestes.\n",
        "Están {estrella_1}, {estrella_2}, {estrella_3}, {estrella_4}, {estrella_5} y otras {edad_1 + edad_2 - total_de_nombres_de_estrellas_mencionados} estrellas más.\n",
        "\n",
        "{nombre_1} y {nombre_2} tienen planeado sobrevivir hasta el siglo XXII.\n",
        "¡Cuántas estrellas más habrán de comprar y nombrar juntos!\n",
        "\n",
        "Su meta es {numero_de_estrellas_deseadas}.\n",
        "Sólo faltan {numero_de_estrellas_deseadas - (edad_1 + edad_2)}.\n",
        "¡Vamos {nombre_1} y {nombre_2}! {nombre_1} y {nombre_2} son les mejores amigues. No hay duda alguna.\"\"\")"
      ]
    }
  ],
  "metadata": {
    "kernelspec": {
      "display_name": "Python (data_science)",
      "language": "python",
      "name": "data_science"
    },
    "language_info": {
      "codemirror_mode": {
        "name": "ipython",
        "version": 3
      },
      "file_extension": ".py",
      "mimetype": "text/x-python",
      "name": "python",
      "nbconvert_exporter": "python",
      "pygments_lexer": "ipython3",
      "version": "3.8.5"
    },
    "colab": {
      "provenance": []
    }
  },
  "nbformat": 4,
  "nbformat_minor": 0
}