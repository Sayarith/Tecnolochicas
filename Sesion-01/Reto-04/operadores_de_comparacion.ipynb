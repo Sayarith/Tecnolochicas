{
  "cells": [
    {
      "cell_type": "markdown",
      "metadata": {
        "id": "qyju5HUZyNbO"
      },
      "source": [
        "## Reto 4: Operadores de comparación\n",
        "\n",
        "### 1. Objetivos:\n",
        "    - Practicar la comparación de números, strings y booleanos\n",
        "\n",
        "---\n",
        "    \n",
        "### 2. Desarrollo:"
      ]
    },
    {
      "cell_type": "markdown",
      "metadata": {
        "id": "8zrJtyyVyNbd"
      },
      "source": [
        "A continuación tienes algunas variables que han sido asignadas:"
      ]
    },
    {
      "cell_type": "code",
      "execution_count": 1,
      "metadata": {
        "id": "P2GNFaQRyNbf"
      },
      "outputs": [],
      "source": [
        "var_1 = 3\n",
        "var_2 = 5\n",
        "var_3 = 9\n",
        "var_4 = 1\n",
        "var_5 = 9\n",
        "var_6 = -6\n",
        "var_7 = 5\n",
        "var_8 = 4"
      ]
    },
    {
      "cell_type": "markdown",
      "metadata": {
        "id": "U35fUIIYyNbj"
      },
      "source": [
        "A continuación tienes algunas comparaciones que se encuentran incompletas, junto con el resultado que se espera de dicha comparación. Agrega los `operadores de comparación` adecuados, en medio de las variables, para que al correr las celdas se obtengan los `Resultados esperados`. Para este reto, los operadores `==` y `!=` no están permitidos."
      ]
    },
    {
      "cell_type": "code",
      "execution_count": 4,
      "metadata": {
        "id": "fAdbjIrlyNbl",
        "outputId": "f1316baa-845b-4f1b-d438-6eaf6d056aff",
        "colab": {
          "base_uri": "https://localhost:8080/"
        }
      },
      "outputs": [
        {
          "output_type": "execute_result",
          "data": {
            "text/plain": [
              "False"
            ]
          },
          "metadata": {},
          "execution_count": 4
        }
      ],
      "source": [
        "var_1 > var_3  # Resultado esperado: False"
      ]
    },
    {
      "cell_type": "code",
      "execution_count": 5,
      "metadata": {
        "id": "eXFkDxaVyNbm",
        "outputId": "b7bc29e0-7741-4067-f38c-5af6a29e842e",
        "colab": {
          "base_uri": "https://localhost:8080/"
        }
      },
      "outputs": [
        {
          "output_type": "execute_result",
          "data": {
            "text/plain": [
              "True"
            ]
          },
          "metadata": {},
          "execution_count": 5
        }
      ],
      "source": [
        "var_1 > var_4 # Resultado esperado: True"
      ]
    },
    {
      "cell_type": "code",
      "execution_count": 7,
      "metadata": {
        "id": "fk0GNE5wyNbp",
        "outputId": "14af1442-367d-42a5-9e5b-7624bcc2a992",
        "colab": {
          "base_uri": "https://localhost:8080/"
        }
      },
      "outputs": [
        {
          "output_type": "execute_result",
          "data": {
            "text/plain": [
              "True"
            ]
          },
          "metadata": {},
          "execution_count": 7
        }
      ],
      "source": [
        "var_2 >= var_7  # Resultado esperado: True"
      ]
    },
    {
      "cell_type": "code",
      "execution_count": 9,
      "metadata": {
        "id": "JkEUeX3gyNbs",
        "outputId": "67b28e1f-beef-433f-cf4d-b04b76ef3326",
        "colab": {
          "base_uri": "https://localhost:8080/"
        }
      },
      "outputs": [
        {
          "output_type": "execute_result",
          "data": {
            "text/plain": [
              "True"
            ]
          },
          "metadata": {},
          "execution_count": 9
        }
      ],
      "source": [
        "var_8 > var_6  # Resultado esperado: True"
      ]
    },
    {
      "cell_type": "code",
      "execution_count": 10,
      "metadata": {
        "id": "WaERaRrqyNbu",
        "outputId": "6256636a-036f-46da-981c-8c877be354a1",
        "colab": {
          "base_uri": "https://localhost:8080/"
        }
      },
      "outputs": [
        {
          "output_type": "execute_result",
          "data": {
            "text/plain": [
              "False"
            ]
          },
          "metadata": {},
          "execution_count": 10
        }
      ],
      "source": [
        "var_3 > var_5  # Resultado esperado: False"
      ]
    },
    {
      "cell_type": "code",
      "execution_count": 11,
      "metadata": {
        "id": "-OKV_FVpyNbw",
        "outputId": "28ac3464-f663-4613-d189-e0162d735a4b",
        "colab": {
          "base_uri": "https://localhost:8080/"
        }
      },
      "outputs": [
        {
          "output_type": "execute_result",
          "data": {
            "text/plain": [
              "True"
            ]
          },
          "metadata": {},
          "execution_count": 11
        }
      ],
      "source": [
        "var_1 < var_3  # Resultado esperado: True"
      ]
    },
    {
      "cell_type": "code",
      "execution_count": null,
      "metadata": {
        "id": "6KyTQzXvyNbx"
      },
      "outputs": [],
      "source": [
        "var_5 < var_4  # Resultado esperado: False"
      ]
    },
    {
      "cell_type": "code",
      "execution_count": 12,
      "metadata": {
        "id": "qjMax-CCyNby",
        "outputId": "004e45dd-228d-4955-c193-59dce8e3cdad",
        "colab": {
          "base_uri": "https://localhost:8080/"
        }
      },
      "outputs": [
        {
          "output_type": "execute_result",
          "data": {
            "text/plain": [
              "False"
            ]
          },
          "metadata": {},
          "execution_count": 12
        }
      ],
      "source": [
        "var_3 < var_5  # Resultado esperado: True"
      ]
    },
    {
      "cell_type": "markdown",
      "metadata": {
        "id": "WTeN6szMyNbz"
      },
      "source": [
        "<details><summary>Solución</summary>\n",
        "\n",
        "```python\n",
        "var_1 > var_3\n",
        "var_1 > var_4\n",
        "var_2 >= var_7\n",
        "var_8 > var_6\n",
        "var_3 > var_5\n",
        "var_1 < var_3\n",
        "var_5 < var_4\n",
        "var_3 <= var_5\n",
        "```\n",
        "    \n",
        "</details>"
      ]
    },
    {
      "cell_type": "code",
      "execution_count": null,
      "metadata": {
        "id": "EcUmCMsJyNb0"
      },
      "outputs": [],
      "source": []
    }
  ],
  "metadata": {
    "kernelspec": {
      "display_name": "Python (data_science)",
      "language": "python",
      "name": "data_science"
    },
    "language_info": {
      "codemirror_mode": {
        "name": "ipython",
        "version": 3
      },
      "file_extension": ".py",
      "mimetype": "text/x-python",
      "name": "python",
      "nbconvert_exporter": "python",
      "pygments_lexer": "ipython3",
      "version": "3.8.5"
    },
    "colab": {
      "provenance": []
    }
  },
  "nbformat": 4,
  "nbformat_minor": 0
}